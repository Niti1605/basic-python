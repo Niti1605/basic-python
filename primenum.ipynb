{
 "cells": [
  {
   "cell_type": "code",
   "execution_count": 8,
   "id": "d8b1d7ac",
   "metadata": {},
   "outputs": [],
   "source": [
    "def is_prime(num):\n",
    "    for i in range(2,num):\n",
    "        if(num%i)==0:\n",
    "            print(\"number is prime\")\n",
    "        else:\n",
    "            print(\"not a prime number\")"
   ]
  },
  {
   "cell_type": "code",
   "execution_count": 3,
   "id": "47962b5e",
   "metadata": {},
   "outputs": [
    {
     "name": "stdout",
     "output_type": "stream",
     "text": [
      "not a prime number\n",
      "not a prime number\n",
      "not a prime number\n",
      "not a prime number\n",
      "not a prime number\n"
     ]
    }
   ],
   "source": [
    "is_prime(7)"
   ]
  },
  {
   "cell_type": "code",
   "execution_count": 4,
   "id": "df82aeb7",
   "metadata": {},
   "outputs": [
    {
     "name": "stdout",
     "output_type": "stream",
     "text": [
      "number is prime\n",
      "not a prime number\n",
      "number is prime\n",
      "not a prime number\n",
      "not a prime number\n",
      "not a prime number\n"
     ]
    }
   ],
   "source": [
    "is_prime(8)"
   ]
  },
  {
   "cell_type": "code",
   "execution_count": null,
   "id": "5ac32b7c",
   "metadata": {},
   "outputs": [],
   "source": []
  },
  {
   "cell_type": "code",
   "execution_count": null,
   "id": "e5be8d94",
   "metadata": {},
   "outputs": [],
   "source": []
  }
 ],
 "metadata": {
  "kernelspec": {
   "display_name": "Python 3 (ipykernel)",
   "language": "python",
   "name": "python3"
  },
  "language_info": {
   "codemirror_mode": {
    "name": "ipython",
    "version": 3
   },
   "file_extension": ".py",
   "mimetype": "text/x-python",
   "name": "python",
   "nbconvert_exporter": "python",
   "pygments_lexer": "ipython3",
   "version": "3.9.12"
  }
 },
 "nbformat": 4,
 "nbformat_minor": 5
}
